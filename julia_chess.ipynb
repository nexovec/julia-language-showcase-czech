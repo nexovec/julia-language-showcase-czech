{
 "cells": [
  {
   "cell_type": "code",
   "execution_count": 1,
   "metadata": {},
   "outputs": [
    {
     "name": "stderr",
     "output_type": "stream",
     "text": [
      "\u001b[32m\u001b[1m  Activating\u001b[22m\u001b[39m new project at `c:\\dev\\.school\\USW\\julia-language-showcase-czech\\env`"
     ]
    },
    {
     "name": "stderr",
     "output_type": "stream",
     "text": [
      "\n"
     ]
    },
    {
     "name": "stderr",
     "output_type": "stream",
     "text": [
      "\u001b[32m\u001b[1m    Updating\u001b[22m\u001b[39m registry at `C:\\Users\\nexovec\\.julia\\registries\\General.toml`\n",
      "\u001b[32m\u001b[1m   Resolving\u001b[22m\u001b[39m package versions...\n"
     ]
    },
    {
     "name": "stderr",
     "output_type": "stream",
     "text": [
      "\u001b[32m\u001b[1m   Installed\u001b[22m\u001b[39m DocStringExtensions ─ v0.9.3\n"
     ]
    },
    {
     "name": "stderr",
     "output_type": "stream",
     "text": [
      "\u001b[32m\u001b[1m    Updating\u001b[22m\u001b[39m `C:\\dev\\.school\\USW\\julia-language-showcase-czech\\env\\Project.toml`\n",
      " \u001b[90m [717200cc] \u001b[39m\u001b[92m+ Chess v0.7.5\u001b[39m\n",
      "\u001b[32m\u001b[1m    Updating\u001b[22m\u001b[39m `C:\\dev\\.school\\USW\\julia-language-showcase-czech\\env\\Manifest.toml`\n",
      " \u001b[90m [d360d2e6] \u001b[39m\u001b[92m+ ChainRulesCore v1.15.6\u001b[39m\n",
      " \u001b[90m [9e997f8a] \u001b[39m\u001b[92m+ ChangesOfVariables v0.1.4\u001b[39m\n",
      " \u001b[90m [717200cc] \u001b[39m\u001b[92m+ Chess v0.7.5\u001b[39m\n",
      " \u001b[90m [a10d1c49] \u001b[39m\u001b[92m+ DBInterface v2.5.0\u001b[39m\n",
      " \u001b[90m [3f0dd361] \u001b[39m\u001b[92m+ DefaultApplication v1.1.0\u001b[39m\n",
      " \u001b[90m [ffbed154] \u001b[39m\u001b[92m+ DocStringExtensions v0.9.3\u001b[39m\n",
      " \u001b[90m [9fb69e20] \u001b[39m\u001b[92m+ Hiccup v0.2.2\u001b[39m\n",
      " \u001b[90m [ac1192a8] \u001b[39m\u001b[92m+ HypertextLiteral v0.9.4\u001b[39m\n",
      " \u001b[90m [842dd82b] \u001b[39m\u001b[92m+ InlineStrings v1.3.2\u001b[39m\n",
      " \u001b[90m [3587e190] \u001b[39m\u001b[92m+ InverseFunctions v0.1.8\u001b[39m\n",
      " \u001b[90m [92d709cd] \u001b[39m\u001b[92m+ IrrationalConstants v0.1.1\u001b[39m\n",
      " \u001b[90m [692b3bcd] \u001b[39m\u001b[92m+ JLLWrappers v1.4.1\u001b[39m\n",
      " \u001b[90m [682c06a0] \u001b[39m\u001b[92m+ JSON v0.21.3\u001b[39m\n",
      " \u001b[90m [2ab3a3ac] \u001b[39m\u001b[92m+ LogExpFunctions v0.3.19\u001b[39m\n",
      " \u001b[90m [1914dd2f] \u001b[39m\u001b[92m+ MacroTools v0.5.10\u001b[39m\n",
      " \u001b[90m [69de0a69] \u001b[39m\u001b[92m+ Parsers v2.5.1\u001b[39m\n",
      " \u001b[90m [21216c6a] \u001b[39m\u001b[92m+ Preferences v1.3.0\u001b[39m\n",
      " \u001b[90m [0aa819cd] \u001b[39m\u001b[92m+ SQLite v1.6.0\u001b[39m\n",
      " \u001b[90m [90137ffa] \u001b[39m\u001b[92m+ StaticArrays v1.5.11\u001b[39m\n",
      " \u001b[90m [1e83bf80] \u001b[39m\u001b[92m+ StaticArraysCore v1.4.0\u001b[39m\n",
      " \u001b[90m [82ae8749] \u001b[39m\u001b[92m+ StatsAPI v1.5.0\u001b[39m\n",
      " \u001b[90m [2913bbd2] \u001b[39m\u001b[92m+ StatsBase v0.33.21\u001b[39m\n",
      " \u001b[90m [410a4b4d] \u001b[39m\u001b[92m+ Tricks v0.1.6\u001b[39m\n",
      " \u001b[90m [ea10d353] \u001b[39m\u001b[92m+ WeakRefStrings v1.4.2\u001b[39m\n",
      " \u001b[90m [76ed43ae] \u001b[39m\u001b[92m+ SQLite_jll v3.40.0+1\u001b[39m\n",
      " \u001b[90m [0dad84c5] \u001b[39m\u001b[92m+ ArgTools v1.1.1\u001b[39m\n",
      " \u001b[90m [f43a241f] \u001b[39m\u001b[92m+ Downloads v1.6.0\u001b[39m\n",
      " \u001b[90m [7b1f6079] \u001b[39m\u001b[92m+ FileWatching\u001b[39m\n",
      " \u001b[90m [b27032c2] \u001b[39m\u001b[92m+ LibCURL v0.6.3\u001b[39m\n",
      " \u001b[90m [76f85450] \u001b[39m\u001b[92m+ LibGit2\u001b[39m\n",
      " \u001b[90m [a63ad114] \u001b[39m\u001b[92m+ Mmap\u001b[39m\n",
      " \u001b[90m [ca575930] \u001b[39m\u001b[92m+ NetworkOptions v1.2.0\u001b[39m\n",
      " \u001b[90m [44cfe95a] \u001b[39m\u001b[92m+ Pkg v1.8.0\u001b[39m\n",
      " \u001b[90m [fa267f1f] \u001b[39m\u001b[92m+ TOML v1.0.0\u001b[39m\n",
      " \u001b[90m [a4e569a6] \u001b[39m\u001b[92m+ Tar v1.10.1\u001b[39m\n",
      " \u001b[90m [deac9b47] \u001b[39m\u001b[92m+ LibCURL_jll v7.84.0+0\u001b[39m\n",
      " \u001b[90m [29816b5a] \u001b[39m\u001b[92m+ LibSSH2_jll v1.10.2+0\u001b[39m\n",
      " \u001b[90m [c8ffd9c3] \u001b[39m\u001b[92m+ MbedTLS_jll v2.28.0+0\u001b[39m\n",
      " \u001b[90m [14a3606d] \u001b[39m\u001b[92m+ MozillaCACerts_jll v2022.2.1\u001b[39m\n",
      " \u001b[90m [83775a58] \u001b[39m\u001b[92m+ Zlib_jll v1.2.12+3\u001b[39m\n",
      " \u001b[90m [8e850ede] \u001b[39m\u001b[92m+ nghttp2_jll v1.48.0+0\u001b[39m\n",
      " \u001b[90m [3f19e933] \u001b[39m\u001b[92m+ p7zip_jll v17.4.0+0\u001b[39m\n"
     ]
    },
    {
     "name": "stderr",
     "output_type": "stream",
     "text": [
      "\u001b[32m\u001b[1mPrecompiling\u001b[22m\u001b[39m project...\n"
     ]
    },
    {
     "name": "stderr",
     "output_type": "stream",
     "text": [
      "\u001b[32m  ✓ \u001b[39m\u001b[90mDocStringExtensions\u001b[39m\n"
     ]
    },
    {
     "name": "stderr",
     "output_type": "stream",
     "text": [
      "\u001b[32m  ✓ \u001b[39m\u001b[90mLogExpFunctions\u001b[39m\n"
     ]
    },
    {
     "name": "stderr",
     "output_type": "stream",
     "text": [
      "\u001b[32m  ✓ \u001b[39m\u001b[90mStatsBase\u001b[39m\n"
     ]
    },
    {
     "name": "stderr",
     "output_type": "stream",
     "text": [
      "\u001b[32m  ✓ \u001b[39mChess\n",
      "  4 dependencies successfully precompiled in 10 seconds. 47 already precompiled.\n",
      "\u001b[32m\u001b[1m   Resolving\u001b[22m\u001b[39m package versions...\n",
      "\u001b[32m\u001b[1m    Updating\u001b[22m\u001b[39m `C:\\dev\\.school\\USW\\julia-language-showcase-czech\\env\\Project.toml`\n",
      " \u001b[90m [a93c6f00] \u001b[39m\u001b[92m+ DataFrames v1.4.4\u001b[39m\n",
      "\u001b[32m\u001b[1m    Updating\u001b[22m\u001b[39m `C:\\dev\\.school\\USW\\julia-language-showcase-czech\\env\\Manifest.toml`"
     ]
    },
    {
     "name": "stderr",
     "output_type": "stream",
     "text": [
      "\n",
      " \u001b[90m [a8cc5b0e] \u001b[39m\u001b[92m+ Crayons v4.1.1\u001b[39m\n",
      " \u001b[90m [a93c6f00] \u001b[39m\u001b[92m+ DataFrames v1.4.4\u001b[39m\n",
      " \u001b[90m [864edb3b] \u001b[39m\u001b[92m+ DataStructures v0.18.13\u001b[39m\n",
      " \u001b[90m [59287772] \u001b[39m\u001b[92m+ Formatting v0.4.2\u001b[39m\n",
      " \u001b[90m [41ab1584] \u001b[39m\u001b[92m+ InvertedIndices v1.2.0\u001b[39m\n",
      " \u001b[90m [b964fa9f] \u001b[39m\u001b[92m+ LaTeXStrings v1.3.0\u001b[39m\n",
      " \u001b[90m [e1d29d7a] \u001b[39m\u001b[92m+ Missings v1.0.2\u001b[39m\n",
      " \u001b[90m [08abe8d2] \u001b[39m\u001b[92m+ PrettyTables v2.2.2\u001b[39m\n",
      " \u001b[90m [189a3867] \u001b[39m\u001b[92m+ Reexport v1.2.2\u001b[39m\n",
      " \u001b[90m [a2af1166] \u001b[39m\u001b[92m+ SortingAlgorithms v1.1.0\u001b[39m\n",
      " \u001b[90m [892a3eda] \u001b[39m\u001b[92m+ StringManipulation v0.3.0\u001b[39m\n",
      " \u001b[90m [3fa0cd96] \u001b[39m\u001b[92m+ REPL\u001b[39m\n",
      " \u001b[90m [6462fe0b] \u001b[39m\u001b[92m+ Sockets\u001b[39m\n"
     ]
    },
    {
     "name": "stderr",
     "output_type": "stream",
     "text": [
      "\u001b[32m\u001b[1mPrecompiling\u001b[22m\u001b[39m project...\n"
     ]
    },
    {
     "name": "stderr",
     "output_type": "stream",
     "text": [
      "\u001b[32m  ✓ \u001b[39mCSV\n",
      "  1 dependency successfully precompiled in 14 seconds. 34 already precompiled.\n",
      "\u001b[32m\u001b[1m   Resolving\u001b[22m\u001b[39m package versions...\n",
      "\u001b[32m\u001b[1m  No Changes\u001b[22m\u001b[39m to `C:\\dev\\.school\\USW\\julia-language-showcase-czech\\env\\Project.toml`\n"
     ]
    },
    {
     "name": "stderr",
     "output_type": "stream",
     "text": [
      "\u001b[32m\u001b[1m  No Changes\u001b[22m\u001b[39m to `C:\\dev\\.school\\USW\\julia-language-showcase-czech\\env\\Manifest.toml`"
     ]
    },
    {
     "name": "stderr",
     "output_type": "stream",
     "text": [
      "\n"
     ]
    },
    {
     "name": "stderr",
     "output_type": "stream",
     "text": [
      "\u001b[32m\u001b[1m   Resolving\u001b[22m\u001b[39m package versions...\n"
     ]
    },
    {
     "name": "stderr",
     "output_type": "stream",
     "text": [
      "\u001b[32m\u001b[1m    Updating\u001b[22m\u001b[39m `C:\\dev\\.school\\USW\\julia-language-showcase-czech\\env\\Project.toml`\n",
      " \u001b[90m [a63ad114] \u001b[39m\u001b[92m+ Mmap\u001b[39m\n",
      "\u001b[32m\u001b[1m  No Changes\u001b[22m\u001b[39m to `C:\\dev\\.school\\USW\\julia-language-showcase-czech\\env\\Manifest.toml`\n"
     ]
    }
   ],
   "source": [
    "using Pkg;\n",
    "Pkg.activate(\"env\");\n",
    "Pkg.add(\"Chess\");\n",
    "Pkg.add(\"DataFrames\");\n",
    "Pkg.add(\"BenchmarkTools\");\n",
    "Pkg.add(\"Mmap\");"
   ]
  },
  {
   "cell_type": "code",
   "execution_count": 2,
   "metadata": {},
   "outputs": [],
   "source": [
    "using Chess, Chess.PGN\n",
    "using DataFrames\n",
    "using BenchmarkTools\n",
    "using Mmap"
   ]
  },
  {
   "cell_type": "code",
   "execution_count": 3,
   "metadata": {},
   "outputs": [
    {
     "data": {
      "text/html": [
       "SimpleGame:<div class=\"game\"><svg style=\"float: left; margin-right: 20px\" viewBox=\"0 0 8 8\" height=\"280\" width=\"280\"><g><g><rect x=\"0\" y=\"0\" class=\"light-square\" height=\"1\" width=\"1\"></rect><image x=\"0\" xlink:href=\"https://raw.githubusercontent.com/romstad/Chess.jl/master/img/br.svg\" y=\"0\" height=\"1\" width=\"1\"></image></g><g><rect x=\"0\" y=\"1\" class=\"dark-square\" height=\"1\" width=\"1\"></rect><image x=\"0\" xlink:href=\"https://raw.githubusercontent.com/romstad/Chess.jl/master/img/bp.svg\" y=\"1\" height=\"1\" width=\"1\"></image></g><g><rect x=\"0\" y=\"2\" class=\"light-square\" height=\"1\" width=\"1\"></rect><g></g></g><g><rect x=\"0\" y=\"3\" class=\"dark-square\" height=\"1\" width=\"1\"></rect><g></g></g><g><rect x=\"0\" y=\"4\" class=\"light-square\" height=\"1\" width=\"1\"></rect><g></g></g><g><rect x=\"0\" y=\"5\" class=\"dark-square\" height=\"1\" width=\"1\"></rect><g></g></g><g><rect x=\"0\" y=\"6\" class=\"light-square\" height=\"1\" width=\"1\"></rect><image x=\"0\" xlink:href=\"https://raw.githubusercontent.com/romstad/Chess.jl/master/img/wp.svg\" y=\"6\" height=\"1\" width=\"1\"></image></g><g><rect x=\"0\" y=\"7\" class=\"dark-square\" height=\"1\" width=\"1\"></rect><image x=\"0\" xlink:href=\"https://raw.githubusercontent.com/romstad/Chess.jl/master/img/wr.svg\" y=\"7\" height=\"1\" width=\"1\"></image></g><g><rect x=\"1\" y=\"0\" class=\"dark-square\" height=\"1\" width=\"1\"></rect><image x=\"1\" xlink:href=\"https://raw.githubusercontent.com/romstad/Chess.jl/master/img/bn.svg\" y=\"0\" height=\"1\" width=\"1\"></image></g><g><rect x=\"1\" y=\"1\" class=\"light-square\" height=\"1\" width=\"1\"></rect><image x=\"1\" xlink:href=\"https://raw.githubusercontent.com/romstad/Chess.jl/master/img/bp.svg\" y=\"1\" height=\"1\" width=\"1\"></image></g><g><rect x=\"1\" y=\"2\" class=\"dark-square\" height=\"1\" width=\"1\"></rect><g></g></g><g><rect x=\"1\" y=\"3\" class=\"light-square\" height=\"1\" width=\"1\"></rect><g></g></g><g><rect x=\"1\" y=\"4\" class=\"dark-square\" height=\"1\" width=\"1\"></rect><g></g></g><g><rect x=\"1\" y=\"5\" class=\"light-square\" height=\"1\" width=\"1\"></rect><g></g></g><g><rect x=\"1\" y=\"6\" class=\"dark-square\" height=\"1\" width=\"1\"></rect><image x=\"1\" xlink:href=\"https://raw.githubusercontent.com/romstad/Chess.jl/master/img/wp.svg\" y=\"6\" height=\"1\" width=\"1\"></image></g><g><rect x=\"1\" y=\"7\" class=\"light-square\" height=\"1\" width=\"1\"></rect><g></g></g><g><rect x=\"2\" y=\"0\" class=\"light-square\" height=\"1\" width=\"1\"></rect><image x=\"2\" xlink:href=\"https://raw.githubusercontent.com/romstad/Chess.jl/master/img/bb.svg\" y=\"0\" height=\"1\" width=\"1\"></image></g><g><rect x=\"2\" y=\"1\" class=\"dark-square\" height=\"1\" width=\"1\"></rect><image x=\"2\" xlink:href=\"https://raw.githubusercontent.com/romstad/Chess.jl/master/img/bp.svg\" y=\"1\" height=\"1\" width=\"1\"></image></g><g><rect x=\"2\" y=\"2\" class=\"light-square\" height=\"1\" width=\"1\"></rect><g></g></g><g><rect x=\"2\" y=\"3\" class=\"dark-square\" height=\"1\" width=\"1\"></rect><g></g></g><g><rect x=\"2\" y=\"4\" class=\"light-square\" height=\"1\" width=\"1\"></rect><g></g></g><g><rect x=\"2\" y=\"5\" class=\"dark-square\" height=\"1\" width=\"1\"></rect><image x=\"2\" xlink:href=\"https://raw.githubusercontent.com/romstad/Chess.jl/master/img/wn.svg\" y=\"5\" height=\"1\" width=\"1\"></image></g><g><rect x=\"2\" y=\"6\" class=\"light-square\" height=\"1\" width=\"1\"></rect><image x=\"2\" xlink:href=\"https://raw.githubusercontent.com/romstad/Chess.jl/master/img/wp.svg\" y=\"6\" height=\"1\" width=\"1\"></image></g><g><rect x=\"2\" y=\"7\" class=\"dark-square\" height=\"1\" width=\"1\"></rect><image x=\"2\" xlink:href=\"https://raw.githubusercontent.com/romstad/Chess.jl/master/img/wb.svg\" y=\"7\" height=\"1\" width=\"1\"></image></g><g><rect x=\"3\" y=\"0\" class=\"dark-square\" height=\"1\" width=\"1\"></rect><image x=\"3\" xlink:href=\"https://raw.githubusercontent.com/romstad/Chess.jl/master/img/bq.svg\" y=\"0\" height=\"1\" width=\"1\"></image></g><g><rect x=\"3\" y=\"1\" class=\"light-square\" height=\"1\" width=\"1\"></rect><g></g></g><g><rect x=\"3\" y=\"2\" class=\"dark-square\" height=\"1\" width=\"1\"></rect><image x=\"3\" xlink:href=\"https://raw.githubusercontent.com/romstad/Chess.jl/master/img/bb.svg\" y=\"2\" height=\"1\" width=\"1\"></image></g><g><rect x=\"3\" y=\"3\" class=\"light-square\" height=\"1\" width=\"1\"></rect><g></g></g><g><rect x=\"3\" y=\"4\" class=\"dark-square\" height=\"1\" width=\"1\"></rect><g></g></g><g><rect x=\"3\" y=\"5\" class=\"light-square\" height=\"1\" width=\"1\"></rect><g></g></g><g><rect x=\"3\" y=\"6\" class=\"dark-square\" height=\"1\" width=\"1\"></rect><image x=\"3\" xlink:href=\"https://raw.githubusercontent.com/romstad/Chess.jl/master/img/wp.svg\" y=\"6\" height=\"1\" width=\"1\"></image></g><g><rect x=\"3\" y=\"7\" class=\"light-square\" height=\"1\" width=\"1\"></rect><image x=\"3\" xlink:href=\"https://raw.githubusercontent.com/romstad/Chess.jl/master/img/wq.svg\" y=\"7\" height=\"1\" width=\"1\"></image></g><g><rect x=\"4\" y=\"0\" class=\"light-square\" height=\"1\" width=\"1\"></rect><image x=\"4\" xlink:href=\"https://raw.githubusercontent.com/romstad/Chess.jl/master/img/bk.svg\" y=\"0\" height=\"1\" width=\"1\"></image></g><g><rect x=\"4\" y=\"1\" class=\"dark-square\" height=\"1\" width=\"1\"></rect><g></g></g><g><rect x=\"4\" y=\"2\" class=\"light-square\" height=\"1\" width=\"1\"></rect><g></g></g><g><rect x=\"4\" y=\"3\" class=\"dark-square\" height=\"1\" width=\"1\"></rect><g></g></g><g><rect x=\"4\" y=\"4\" class=\"light-square\" height=\"1\" width=\"1\"></rect><g></g></g><g><rect x=\"4\" y=\"5\" class=\"dark-square\" height=\"1\" width=\"1\"></rect><g></g></g><g><rect x=\"4\" y=\"6\" class=\"light-square\" height=\"1\" width=\"1\"></rect><image x=\"4\" xlink:href=\"https://raw.githubusercontent.com/romstad/Chess.jl/master/img/wp.svg\" y=\"6\" height=\"1\" width=\"1\"></image></g><g><rect x=\"4\" y=\"7\" class=\"dark-square\" height=\"1\" width=\"1\"></rect><image x=\"4\" xlink:href=\"https://raw.githubusercontent.com/romstad/Chess.jl/master/img/wk.svg\" y=\"7\" height=\"1\" width=\"1\"></image></g><g><rect x=\"5\" y=\"0\" class=\"dark-square\" height=\"1\" width=\"1\"></rect><g></g></g><g><rect x=\"5\" y=\"1\" class=\"light-square\" height=\"1\" width=\"1\"></rect><image x=\"5\" xlink:href=\"https://raw.githubusercontent.com/romstad/Chess.jl/master/img/bp.svg\" y=\"1\" height=\"1\" width=\"1\"></image></g><g><rect x=\"5\" y=\"2\" class=\"dark-square\" height=\"1\" width=\"1\"></rect><g></g></g><g><rect x=\"5\" y=\"3\" class=\"light-square\" height=\"1\" width=\"1\"></rect><g></g></g><g><rect x=\"5\" y=\"4\" class=\"dark-square\" height=\"1\" width=\"1\"></rect><g></g></g><g><rect x=\"5\" y=\"5\" class=\"light-square\" height=\"1\" width=\"1\"></rect><g></g></g><g><rect x=\"5\" y=\"6\" class=\"dark-square\" height=\"1\" width=\"1\"></rect><g></g></g><g><rect x=\"5\" y=\"7\" class=\"light-square\" height=\"1\" width=\"1\"></rect><image x=\"5\" xlink:href=\"https://raw.githubusercontent.com/romstad/Chess.jl/master/img/wb.svg\" y=\"7\" height=\"1\" width=\"1\"></image></g><g><rect x=\"6\" y=\"0\" class=\"light-square\" height=\"1\" width=\"1\"></rect><image x=\"6\" xlink:href=\"https://raw.githubusercontent.com/romstad/Chess.jl/master/img/bn.svg\" y=\"0\" height=\"1\" width=\"1\"></image></g><g><rect x=\"6\" y=\"1\" class=\"dark-square\" height=\"1\" width=\"1\"></rect><image x=\"6\" xlink:href=\"https://raw.githubusercontent.com/romstad/Chess.jl/master/img/bp.svg\" y=\"1\" height=\"1\" width=\"1\"></image></g><g><rect x=\"6\" y=\"2\" class=\"light-square\" height=\"1\" width=\"1\"></rect><g></g></g><g><rect x=\"6\" y=\"3\" class=\"dark-square\" height=\"1\" width=\"1\"></rect><g></g></g><g><rect x=\"6\" y=\"4\" class=\"light-square\" height=\"1\" width=\"1\"></rect><g></g></g><g><rect x=\"6\" y=\"5\" class=\"dark-square\" height=\"1\" width=\"1\"></rect><g></g></g><g><rect x=\"6\" y=\"6\" class=\"light-square\" height=\"1\" width=\"1\"></rect><image x=\"6\" xlink:href=\"https://raw.githubusercontent.com/romstad/Chess.jl/master/img/wp.svg\" y=\"6\" height=\"1\" width=\"1\"></image></g><g><rect x=\"6\" y=\"7\" class=\"dark-square\" height=\"1\" width=\"1\"></rect><image x=\"6\" xlink:href=\"https://raw.githubusercontent.com/romstad/Chess.jl/master/img/wn.svg\" y=\"7\" height=\"1\" width=\"1\"></image></g><g><rect x=\"7\" y=\"0\" class=\"dark-square\" height=\"1\" width=\"1\"></rect><image x=\"7\" xlink:href=\"https://raw.githubusercontent.com/romstad/Chess.jl/master/img/br.svg\" y=\"0\" height=\"1\" width=\"1\"></image></g><g><rect x=\"7\" y=\"1\" class=\"light-square\" height=\"1\" width=\"1\"></rect><image x=\"7\" xlink:href=\"https://raw.githubusercontent.com/romstad/Chess.jl/master/img/bp.svg\" y=\"1\" height=\"1\" width=\"1\"></image></g><g><rect x=\"7\" y=\"2\" class=\"dark-square\" height=\"1\" width=\"1\"></rect><g></g></g><g><rect x=\"7\" y=\"3\" class=\"light-square\" height=\"1\" width=\"1\"></rect><g></g></g><g><rect x=\"7\" y=\"4\" class=\"dark-square\" height=\"1\" width=\"1\"></rect><g></g></g><g><rect x=\"7\" y=\"5\" class=\"light-square\" height=\"1\" width=\"1\"></rect><g></g></g><g><rect x=\"7\" y=\"6\" class=\"dark-square\" height=\"1\" width=\"1\"></rect><image x=\"7\" xlink:href=\"https://raw.githubusercontent.com/romstad/Chess.jl/master/img/wp.svg\" y=\"6\" height=\"1\" width=\"1\"></image></g><g><rect x=\"7\" y=\"7\" class=\"light-square\" height=\"1\" width=\"1\"></rect><image x=\"7\" xlink:href=\"https://raw.githubusercontent.com/romstad/Chess.jl/master/img/wr.svg\" y=\"7\" height=\"1\" width=\"1\"></image></g></g><g></g></svg><p>1. f4 e5 2. fxe5 d6 3. exd6 Bxd6 4. Nc3 👉</p><a onclick=\"navigator.clipboard.writeText(&#39;[Event &quot;?&quot;]\\n[Site &quot;?&quot;]\\n[Date &quot;?&quot;]\\n[Round &quot;?&quot;]\\n[White &quot;?&quot;]\\n[Black &quot;?&quot;]\\n[Result &quot;*&quot;]\\n\\n1. f4 e5 2. fxe5 d6 3. exd6 Bxd6 4. Nc3 *\\n&#39;).then(function(){},function(){});window.open(&#39;https://lichess.org/paste&#39;,&#39;_blank&#39;);\" href=\"\">Open in lichess</a></div>"
      ],
      "text/plain": [
       "SimpleGame:\n",
       " 1. f4 e5 2. fxe5 d6 3. exd6 Bxd6 4. Nc3 *"
      ]
     },
     "metadata": {},
     "output_type": "display_data"
    }
   ],
   "source": [
    "g = @simplegame f4 e5 fxe5 d6 exd6 Bxd6 Nc3"
   ]
  },
  {
   "cell_type": "code",
   "execution_count": 4,
   "metadata": {},
   "outputs": [
    {
     "name": "stdout",
     "output_type": "stream",
     "text": [
      "SimpleGame (De Castellvi, Francisco vs Vinoles, Narcisco, Valencia 1475):\n",
      " * 1. e4 d5 2. exd5 Qxd5 3. Nc3 Qd8 4. Bc4 Nf6 5. Nf3 Bg4 6. h3 Bxf3 7. Qxf3 e6 8. Qxb7 Nbd7 9. Nb5 Rc8 10. Nxa7 Nb6 11. Nxc8 Nxc8 12. d4 Nd6 13. Bb5+ Nxb5 14. Qxb5+ Nd7 15. d5 exd5 16. Be3 Bd6 17. Rd1 Qf6 18. Rxd5 Qg6 19. Bf4 Bxf4 20. Qxd7+ Kf8 21. Qd8# \n",
      "SimpleGame (Lucena, Luis Ramirez vs Quintana, Huesca 1515):\n",
      " * 1. c3 Nc6 2. d4 e6 3. e4 d5 4. exd5 exd5 5. g3 Bd6 6. Bh3 Bxh3 7. Nxh3 Qd7 8. Nf4 Nf6 9. Qf3 Bxf4 10. Bxf4 O-O-O 11. O-O Qh3 12. Bg5 Ng4 13. Qg2 Qxg2+ 14. Kxg2 f6 15. Bd2 Rhe8 16. Re1 Rxe1 17. Bxe1 Re8 18. Nd2 Nh6 19. Nf1 Nf5 20. Bd2 Nd6 21. h4 Ne4 22. Be3 g5 23. hxg5 fxg5 24. f3 Nd6 25. Bxg5 Re2+ 26. Kh3 Rxb2 27. Ne3 Nb5 28. Nxd5 Rc2 29. Re1 Nxc3 30. Re8+ Kd7 31. Nf6+ Kd6 32. Bf4+ \n",
      "SimpleGame (Lopez de Segura, Ruy vs Leonardo, Giovanni da Cutri, Rome 1560):\n",
      " * 1. e4 e5 2. f4 d6 3. Bc4 c6 4. Nf3 Bg4 5. fxe5 dxe5 6. Bxf7+ Kxf7 7. Nxe5+ Ke8 8. Qxg4 Nf6 9. Qe6+ Qe7 10. Qc8+ Qd8 11. Qxd8+ Kxd8 12. Nf7+ \n",
      "SimpleGame (Lopez de Segura, Ruy vs Leonardo, Giovanni da Cutri, Rome 1572):\n",
      " * 1. e4 e5 2. Nf3 f6 3. Nxe5 fxe5 4. Qh5+ g6 5. Qxe5+ Qe7 6. Qxh8 Nf6 7. d4 Kf7 8. Bc4+ d5 9. Bxd5+ Nxd5 \n",
      "SimpleGame (Polerio, Giulio Cesare vs Leonardo, Giovanni da Cutri, Rome 1572):\n",
      " * 1. e4 e5 2. Nf3 f5 3. Nxe5 Qe7 4. Qh5+ g6 5. Nxg6 Qxe4+ 6. Kd1 Nf6 7. Qh4 Ng4 8. d3 hxg6 9. Qxh8 Nxf2+ 10. Kd2 Qg4 11. Qe5+ Kf7 12. Be2 Qg5+ 13. Kc3 Qh4 \n",
      "SimpleGame (Scovara vs Boi, Paolo, Spain 1575):\n",
      " * 1. e4 e5 2. Bc4 Bc5 3. Nf3 Nc6 4. c3 Qe7 5. d4 exd4 6. cxd4 Qxe4+ 7. Be3 Bb4+ 8. Nc3 d5 9. Bd3 Qe7 10. h3 Nf6 11. Kf1 Kf8 12. g4 Kg8 13. Rh2 Bd6 14. Rg2 \n",
      "SimpleGame (Leonardo, Giovanni da Cutri vs Lopez de Segura, Ruy, Madrid 1575):\n",
      " * 1. e4 e5 2. Nf3 d6 3. Bc4 f5 4. d3 Be7 5. Qe2 c6 6. h3 f4 7. g3 fxg3 8. fxg3 Qc7 9. Nc3 Nf6 10. b4 \n",
      "SimpleGame (Leonardo, Giovanni da Cutri vs Lopez de Segura, Ruy, Madrid 1575):\n",
      " * 1. e4 e5 2. Nf3 Nc6 3. Bc4 Bc5 4. c3 Qe7 5. b4 Bb6 6. a4 a6 7. Ba3 d6 8. d3 Nf6 9. Qe2 Bg4 10. Nbd2 \n",
      "SimpleGame (Polerio, Giulio Cesare vs Busnardo, Rome 1590):\n",
      " * 1. e4 e5 2. f4 exf4 3. Bc4 Qh4+ 4. Kf1 g5 5. Nf3 Qh5 6. d4 d6 7. h4 g4 8. Ng5 Nh6 9. Bxf4 f6 10. Ne6 Bxe6 11. Bxe6 \n",
      "SimpleGame (Saduleto, Giovanni vs Polerio, Giulio Cesare, Rome 1590):\n",
      " * 1. e4 e5 2. Nf3 Nc6 3. Bc4 Bc5 4. c3 Qe7 5. O-O d6 6. d4 Bb6 7. h3 h6 8. Be3 Nf6 9. Nbd2 O-O 10. Re1 Na5 11. Bd3 a6 12. Nf1 Ba7 13. Ng3 \n",
      "SimpleGame (Saduleto, Giovanni vs Polerio, Giulio Cesare, Rome 1590):\n",
      " * 1. e4 e5 2. Nf3 Nc6 3. Bc4 Bc5 4. c3 Qe7 5. O-O d6 6. d4 Bb6 7. Bg5 Nf6 8. d5 Nb8 9. Nbd2 Bg4 10. Qc2 h6 11. Bh4 g5 12. Bg3 a6 13. b4 Nbd7 14. a4 Nf8 15. a5 Ba7 16. b5 Ng6 17. bxa6 bxa6 18. Bxa6 Bxf2+ 19. Rxf2 Rxa6 20. Qd3 Ra8 21. Qb5+ Kf8 22. Qb7 Kg7 23. a6 Rhb8 24. Qc6 Ra7 \n",
      "SimpleGame (Polerio, Giulio Cesare vs D'Arminio, Domenico, Rome 1610):\n",
      " * 1. e4 e5 2. Nf3 Nc6 3. Bc4 Nf6 4. Ng5 d5 5. exd5 Nxd5 6. Nxf7 Kxf7 7. Qf3+ Ke6 8. Nc3 Ne7 9. d4 c6 10. Bg5 h6 11. Bxe7 Bxe7 12. O-O-O Rf8 13. Qe4 Rxf2 14. dxe5 Bg5+ 15. Kb1 Rd2 16. h4 Rxd1+ 17. Rxd1 Bxh4 18. Nxd5 cxd5 19. Rxd5 Qg5 20. Rd6+ Ke7 21. Rg6 Qd2 22. Rxg7+ Kf8 23. Rg8+ Ke7 24. Qh7# \n",
      "SimpleGame (Greco, Gioacchino vs NN, Europe 1620):\n",
      " * 1. e4 e5 2. Nf3 Nc6 3. Bc4 Bc5 4. c3 Qe7 5. O-O d6 6. d4 Bb6 7. Bg5 f6 8. Bh4 g5 9. Nxg5 fxg5 10. Qh5+ Kf8 11. Bxg5 Qe8 12. Qf3+ Kg7 13. Bxg8 Rxg8 14. Qf6# \n",
      "SimpleGame (Greco, Gioacchino vs NN, Europe 1620):\n",
      " * 1. e4 e5 2. Nf3 Qf6 3. Bc4 Qg6 4. O-O Qxe4 5. Bxf7+ Kxf7 6. Ng5+ Ke8 7. Nxe4 \n",
      "SimpleGame (Greco, Gioacchino vs NN, Europe 1620):\n",
      " * 1. e4 e5 2. Nf3 d6 3. h3 Nf6 4. c3 Nxe4 5. Qa4+ \n",
      "SimpleGame (Greco, Gioacchino vs NN, Europe 1620):\n",
      " * 1. e4 e5 2. Bc4 Bc5 3. Qe2 Qe7 4. f4 exf4 5. Nf3 Nf6 6. d4 Bb4+ 7. c3 Ba5 8. e5 Nh5 9. O-O O-O 10. Ne1 Qh4 11. Nd3 g5 12. Nd2 c6 13. Ne4 Kh8 14. Nd6 Na6 15. Nf5 \n",
      "SimpleGame (Greco, Gioacchino vs NN, Europe 1620):\n",
      " * 1. d4 d5 2. c4 dxc4 3. e4 b5 4. a4 c6 5. axb5 cxb5 6. b3 a5 7. bxc4 b4 8. d5 e6 9. Nd2 exd5 10. exd5 Bc5 11. Nb3 Bb6 12. c5 Qe7+ 13. Qe2 Qxe2+ 14. Bxe2 Bd8 15. Bb5+ Kf8 16. c6 Bb6 17. Be3 Bxe3 18. fxe3 Nf6 19. d6 g6 20. d7 Bxd7 21. cxd7 Nbxd7 22. Bxd7 Nxd7 23. Rxa5 \n",
      "SimpleGame (Greco, Gioacchino vs NN, Europe 1620):\n",
      " * 1. e4 e5 2. f4 exf4 3. Bc4 Qh4+ 4. Kf1 d6 5. Nf3 Bg4 6. d4 Qf6 7. e5 Qh6 8. g3 Qh3+ 9. Kf2 fxg3+ 10. hxg3 Bxf3 11. Qxf3 Qd7 12. Qxb7 Qc6 13. Bb5 "
     ]
    },
    {
     "name": "stdout",
     "output_type": "stream",
     "text": [
      "\n"
     ]
    }
   ],
   "source": [
    "ch = gamesinfile(\"Small.pgn\")\n",
    "for game in ch\n",
    "    println(game)\n",
    "end"
   ]
  }
 ],
 "metadata": {
  "kernelspec": {
   "display_name": "Julia 1.8.2",
   "language": "julia",
   "name": "julia-1.8"
  },
  "language_info": {
   "file_extension": ".jl",
   "mimetype": "application/julia",
   "name": "julia",
   "version": "1.8.2"
  }
 },
 "nbformat": 4,
 "nbformat_minor": 4
}
