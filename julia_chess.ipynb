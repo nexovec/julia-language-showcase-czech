{
 "cells": [
  {
   "cell_type": "code",
   "execution_count": 271,
   "metadata": {},
   "outputs": [
    {
     "name": "stderr",
     "output_type": "stream",
     "text": [
      "\u001b[32m\u001b[1m   Resolving\u001b[22m\u001b[39m package versions..."
     ]
    },
    {
     "name": "stderr",
     "output_type": "stream",
     "text": [
      "\n",
      "\u001b[32m\u001b[1m  No Changes\u001b[22m\u001b[39m to `C:\\Users\\sajne\\.julia\\environments\\v1.8\\Project.toml`\n",
      "\u001b[32m\u001b[1m  No Changes\u001b[22m\u001b[39m to `C:\\Users\\sajne\\.julia\\environments\\v1.8\\Manifest.toml`\n"
     ]
    },
    {
     "name": "stderr",
     "output_type": "stream",
     "text": [
      "\u001b[32m\u001b[1m   Resolving\u001b[22m\u001b[39m package versions..."
     ]
    },
    {
     "name": "stderr",
     "output_type": "stream",
     "text": [
      "\n",
      "\u001b[32m\u001b[1m  No Changes\u001b[22m\u001b[39m to `C:\\Users\\sajne\\.julia\\environments\\v1.8\\Project.toml`\n",
      "\u001b[32m\u001b[1m  No Changes\u001b[22m\u001b[39m to `C:\\Users\\sajne\\.julia\\environments\\v1.8\\Manifest.toml`"
     ]
    },
    {
     "name": "stderr",
     "output_type": "stream",
     "text": [
      "\n"
     ]
    }
   ],
   "source": [
    "using Pkg;\n",
    "Pkg.add(\"Chess\");\n",
    "Pkg.add(\"DataFrames\");"
   ]
  },
  {
   "cell_type": "code",
   "execution_count": 272,
   "metadata": {},
   "outputs": [],
   "source": [
    "using Chess, Chess.PGN\n",
    "using DataFrames"
   ]
  },
  {
   "cell_type": "code",
   "execution_count": 273,
   "metadata": {},
   "outputs": [
    {
     "data": {
      "text/plain": [
       "read_moves (generic function with 1 method)"
      ]
     },
     "metadata": {},
     "output_type": "display_data"
    }
   ],
   "source": [
    "function read_file(pgn_db_file_path)\n",
    "    contents::Vector = Vector{String}()\n",
    "    open(pgn_db_file_path) do f\n",
    "        line = 1\n",
    "        while !eof(f)\n",
    "            line += 1\n",
    "            x = readline(f)\n",
    "            if !startswith(x, \"[SourceTitle\")\n",
    "                # modified = replace(x,\",\"=>\"\")\n",
    "                push!(contents, )\n",
    "            end\n",
    "        end\n",
    "    end\n",
    "    return contents\n",
    "end\n",
    "pgn_db = read_file(\"./Game.pgn\")\n",
    "\n",
    "# returns Pair(description start index, description end-inclusive index), Pair(moves start index, moves end-inclusive index), index of the next game\n",
    "function read_moves(pgn::Vector{String}, start::UInt64)\n",
    "    assert(pgn[start]!=\"\\n\")\n",
    "    description = Vector{String}()\n",
    "    while(!pgn[i]==\"\\n\"))\n",
    "        assert(startswith(pgn[i],\"[\"))\n",
    "        push!(description, pgn[i])\n",
    "    end\n",
    "    i+=1\n",
    "    moves = Vector{String}()\n",
    "    \n",
    "    # gets rid of the next empty line if there is one\n",
    "\n",
    "end"
   ]
  },
  {
   "cell_type": "code",
   "execution_count": 274,
   "metadata": {},
   "outputs": [],
   "source": []
  },
  {
   "cell_type": "code",
   "execution_count": 275,
   "metadata": {},
   "outputs": [],
   "source": []
  },
  {
   "cell_type": "code",
   "execution_count": 276,
   "metadata": {},
   "outputs": [
    {
     "data": {
      "text/plain": [
       "22-element Vector{String}:\n",
       " \"[Event \\\"Valencia Casual Games\\\"]\"\n",
       " \"[Site \\\"Valencia\\\"]\"\n",
       " \"[Date \\\"1475.??.??\\\"]\"\n",
       " \"[Round \\\"?\\\"]\"\n",
       " \"[White \\\"De Castellvi, Francisco\\\"]\"\n",
       " \"[Black \\\"Vinoles, Narcisco\\\"]\"\n",
       " \"[Result \\\"1-0\\\"]\"\n",
       " \"[ECO \\\"B01\\\"]\"\n",
       " \"[PlyCount \\\"41\\\"]\"\n",
       " \"[EventDate \\\"1475.??.??\\\"]\"\n",
       " ⋮\n",
       " \"[SourceDate \\\"2007.11.25\\\"]\"\n",
       " \"[SourceVersion \\\"1\\\"]\"\n",
       " \"[SourceVersionDate \\\"2007.11.25\\\"]\"\n",
       " \"[SourceQuality \\\"1\\\"]\"\n",
       " \"\"\n",
       " \"1. e4 d5 2. exd5 Qxd5 3. Nc3 Qd\" ⋯ 17 bytes ⋯ \"f3 Bg4 6. h3 Bxf3 7. Qxf3 e6 8.\"\n",
       " \"Qxb7 Nbd7 9. Nb5 Rc8 10. Nxa7 Nb6 11. Nxc8 Nxc8 12. d4 Nd6 13. Bb5+ Nxb5 14.\"\n",
       " \"Qxb5+ Nd7 15. d5 exd5 16. Be3 Bd6 17. Rd1 Qf6 18. Rxd5 Qg6 19. Bf4 Bxf4 20.\"\n",
       " \"Qxd7+ Kf8 21. Qd8# 1-0\""
      ]
     },
     "metadata": {},
     "output_type": "display_data"
    }
   ],
   "source": [
    "pgn_db"
   ]
  },
  {
   "cell_type": "code",
   "execution_count": 277,
   "metadata": {},
   "outputs": [
    {
     "ename": "PGNException",
     "evalue": "PGNException(\"Invalid character: ,\")",
     "output_type": "error",
     "traceback": [
      "PGNException(\"Invalid character: ,\")\n",
      "\n",
      "Stacktrace:\n",
      " [1] readtoken(p::PGNReader)\n",
      "   @ Chess.PGN C:\\Users\\sajne\\.julia\\packages\\Chess\\29NoD\\src\\pgn.jl:372\n",
      " [2] readheader(p::PGNReader)\n",
      "   @ Chess.PGN C:\\Users\\sajne\\.julia\\packages\\Chess\\29NoD\\src\\pgn.jl:400\n",
      " [3] readheaders(p::PGNReader)\n",
      "   @ Chess.PGN C:\\Users\\sajne\\.julia\\packages\\Chess\\29NoD\\src\\pgn.jl:417\n",
      " [4] readgame(p::PGNReader; annotations::Bool, movelist::MoveList)\n",
      "   @ Chess.PGN C:\\Users\\sajne\\.julia\\packages\\Chess\\29NoD\\src\\pgn.jl:460\n",
      " [5] gamefromstring(s::String; annotations::Bool, movelist::MoveList)\n",
      "   @ Chess.PGN C:\\Users\\sajne\\.julia\\packages\\Chess\\29NoD\\src\\pgn.jl:613\n",
      " [6] gamefromstring(s::String)\n",
      "   @ Chess.PGN C:\\Users\\sajne\\.julia\\packages\\Chess\\29NoD\\src\\pgn.jl:612\n",
      " [7] top-level scope\n",
      "   @ d:\\dev\\julia\\julia_chess.ipynb:4"
     ]
    }
   ],
   "source": [
    "\n",
    "# replace(pgnstring,\"\\r\"=>\"\")\n",
    "# pgnstring = replace(pgnstring, \"\\r\" => \"\", \"\\ufeff\" => \"\")\n",
    "games = gamefromstring(string(pgn_db))"
   ]
  },
  {
   "cell_type": "code",
   "execution_count": 278,
   "metadata": {},
   "outputs": [],
   "source": []
  },
  {
   "cell_type": "code",
   "execution_count": 279,
   "metadata": {},
   "outputs": [],
   "source": []
  },
  {
   "cell_type": "code",
   "execution_count": 280,
   "metadata": {},
   "outputs": [],
   "source": []
  },
  {
   "cell_type": "code",
   "execution_count": 281,
   "metadata": {},
   "outputs": [],
   "source": []
  },
  {
   "cell_type": "code",
   "execution_count": 282,
   "metadata": {},
   "outputs": [],
   "source": []
  }
 ],
 "metadata": {
  "kernelspec": {
   "display_name": "Julia 1.8.2",
   "language": "julia",
   "name": "julia-1.8"
  },
  "language_info": {
   "file_extension": ".jl",
   "mimetype": "application/julia",
   "name": "julia",
   "version": "1.8.2"
  },
  "orig_nbformat": 4
 },
 "nbformat": 4,
 "nbformat_minor": 2
}
