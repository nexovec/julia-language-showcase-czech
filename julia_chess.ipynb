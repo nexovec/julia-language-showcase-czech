{
 "cells": [
  {
   "cell_type": "code",
   "execution_count": 1,
   "metadata": {},
   "outputs": [],
   "source": [
    "# using Pkg;\n",
    "# Pkg.add(\"Chess\");\n",
    "# Pkg.add(\"DataFrames\");"
   ]
  },
  {
   "cell_type": "code",
   "execution_count": 2,
   "metadata": {},
   "outputs": [
    {
     "name": "stderr",
     "output_type": "stream",
     "text": [
      "┌ Info: Precompiling DataFrames [a93c6f00-e57d-5684-b7b6-d8193f3e46c0]\n",
      "└ @ Base loading.jl:1664\n"
     ]
    }
   ],
   "source": [
    "using Chess, Chess.PGN\n",
    "using DataFrames\n",
    "using BenchmarkTools\n",
    "using Mmap"
   ]
  },
  {
   "cell_type": "code",
   "execution_count": 3,
   "metadata": {},
   "outputs": [
    {
     "name": "stdout",
     "output_type": "stream",
     "text": [
      "  0.021767 seconds (27.71 k allocations: 1.088 MiB, 48.94% compilation time)\n"
     ]
    }
   ],
   "source": [
    "global i = 0\n",
    "@time open(\"./Small.pgn\") do f\n",
    "    while !eof(f)\n",
    "        char = read(f, Char)\n",
    "        global i+=1\n",
    "    end\n",
    "end"
   ]
  },
  {
   "cell_type": "code",
   "execution_count": 4,
   "metadata": {},
   "outputs": [
    {
     "name": "stdout",
     "output_type": "stream",
     "text": [
      "  0.007931 seconds (37.61 k allocations: 930.002 KiB, 53.14% compilation time)\n"
     ]
    }
   ],
   "source": [
    "global i = 0\n",
    "@time begin\n",
    "    chars = open(f->read(f, String), \"./Small.pgn\")\n",
    "    for char in chars\n",
    "        global i+=1\n",
    "    end\n",
    "end"
   ]
  },
  {
   "cell_type": "code",
   "execution_count": 5,
   "metadata": {},
   "outputs": [
    {
     "name": "stdout",
     "output_type": "stream",
     "text": [
      "232.400894 seconds (9.03 G allocations: 134.550 GiB, 2.21% gc time, 0.02% compilation time)\n"
     ]
    },
    {
     "data": {
      "text/plain": [
       "9029163430"
      ]
     },
     "execution_count": 5,
     "metadata": {},
     "output_type": "execute_result"
    }
   ],
   "source": [
    "global i = 0\n",
    "time = @time open(\"./Mega.pgn\") do f\n",
    "    arr = mmap(f, Vector{UInt8})\n",
    "    for k in arr\n",
    "        global i+=1\n",
    "    end\n",
    "end\n",
    "i"
   ]
  },
  {
   "cell_type": "code",
   "execution_count": 6,
   "metadata": {},
   "outputs": [
    {
     "name": "stdout",
     "output_type": "stream",
     "text": [
      "1099.114041 seconds (27.09 G allocations: 546.572 GiB, 4.79% gc time, 0.00% compilation time)\n"
     ]
    }
   ],
   "source": [
    "@time begin\n",
    "    thing = read(open(\"./Mega.pgn\"), String)\n",
    "    for char in thing\n",
    "        global i+=1\n",
    "    end\n",
    "end"
   ]
  },
  {
   "cell_type": "code",
   "execution_count": 7,
   "metadata": {},
   "outputs": [
    {
     "ename": "LoadError",
     "evalue": "MethodError: no method matching eof(::Vector{UInt8})\n\u001b[0mClosest candidates are:\n\u001b[0m  eof(\u001b[91m::Union{Base.DevNull, Core.CoreSTDERR, Core.CoreSTDOUT}\u001b[39m) at coreio.jl:28\n\u001b[0m  eof(\u001b[91m::Base.AbstractPipe\u001b[39m) at io.jl:439\n\u001b[0m  eof(\u001b[91m::Base.GenericIOBuffer\u001b[39m) at iobuffer.jl:335\n\u001b[0m  ...",
     "output_type": "error",
     "traceback": [
      "MethodError: no method matching eof(::Vector{UInt8})\n\u001b[0mClosest candidates are:\n\u001b[0m  eof(\u001b[91m::Union{Base.DevNull, Core.CoreSTDERR, Core.CoreSTDOUT}\u001b[39m) at coreio.jl:28\n\u001b[0m  eof(\u001b[91m::Base.AbstractPipe\u001b[39m) at io.jl:439\n\u001b[0m  eof(\u001b[91m::Base.GenericIOBuffer\u001b[39m) at iobuffer.jl:335\n\u001b[0m  ...",
      "",
      "Stacktrace:",
      " [1] (::var\"#7#8\")(f::IOStream)",
      "   @ Main .\\In[7]:4",
      " [2] open(f::var\"#7#8\", args::String; kwargs::Base.Pairs{Symbol, Union{}, Tuple{}, NamedTuple{(), Tuple{}}})",
      "   @ Base .\\io.jl:384",
      " [3] open(f::Function, args::String)",
      "   @ Base .\\io.jl:381",
      " [4] top-level scope",
      "   @ .\\timing.jl:262 [inlined]",
      " [5] top-level scope",
      "   @ .\\In[7]:0",
      " [6] eval",
      "   @ .\\boot.jl:368 [inlined]",
      " [7] include_string(mapexpr::typeof(REPL.softscope), mod::Module, code::String, filename::String)",
      "   @ Base .\\loading.jl:1428"
     ]
    }
   ],
   "source": [
    "global i = 0\n",
    "@time open(\"./Small.pgn\") do f\n",
    "    arr = mmap(f, Vector{UInt8})\n",
    "    while !eof(arr)\n",
    "        k = read(arr, Char)\n",
    "        global i += 1\n",
    "    end\n",
    "end"
   ]
  },
  {
   "cell_type": "code",
   "execution_count": null,
   "metadata": {},
   "outputs": [
    {
     "name": "stdout",
     "output_type": "stream",
     "text": [
      "  0.016527 seconds (22.13 k allocations: 732.510 KiB, 97.14% compilation time)\n"
     ]
    }
   ],
   "source": [
    "global i = 0\n",
    "@time open(\"./Small.pgn\") do f\n",
    "    arr = mmap(f, Vector{UInt8})\n",
    "    buf = IOBuffer(arr)\n",
    "    while !eof(buf)\n",
    "        k = read(buf, Char)\n",
    "        global i += 1\n",
    "    end\n",
    "end"
   ]
  }
 ],
 "metadata": {
  "kernelspec": {
   "display_name": "Julia 1.8.2",
   "language": "julia",
   "name": "julia-1.8"
  },
  "language_info": {
   "file_extension": ".jl",
   "mimetype": "application/julia",
   "name": "julia",
   "version": "1.8.2"
  }
 },
 "nbformat": 4,
 "nbformat_minor": 4
}
